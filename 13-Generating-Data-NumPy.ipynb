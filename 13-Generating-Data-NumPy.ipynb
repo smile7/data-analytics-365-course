{
 "cells": [
  {
   "cell_type": "markdown",
   "metadata": {},
   "source": [
    "# Generating Data with Numpy"
   ]
  },
  {
   "cell_type": "markdown",
   "metadata": {},
   "source": [
    "### 1. Run these next few cells:"
   ]
  },
  {
   "cell_type": "code",
   "execution_count": 1,
   "metadata": {},
   "outputs": [],
   "source": [
    "import numpy as np"
   ]
  },
  {
   "cell_type": "code",
   "execution_count": 2,
   "metadata": {},
   "outputs": [
    {
     "data": {
      "text/plain": [
       "array([10, 11, 12, 13, 14])"
      ]
     },
     "execution_count": 2,
     "metadata": {},
     "output_type": "execute_result"
    }
   ],
   "source": [
    "array_1D = np.array([10,11,12,13, 14])\n",
    "array_1D"
   ]
  },
  {
   "cell_type": "code",
   "execution_count": 3,
   "metadata": {},
   "outputs": [
    {
     "data": {
      "text/plain": [
       "array([[20, 30, 40, 50, 60],\n",
       "       [43, 54, 65, 76, 87],\n",
       "       [11, 22, 33, 44, 55]])"
      ]
     },
     "execution_count": 3,
     "metadata": {},
     "output_type": "execute_result"
    }
   ],
   "source": [
    "array_2D = np.array([[20,30,40,50,60], [43,54,65,76,87], [11,22,33,44,55]])\n",
    "array_2D"
   ]
  },
  {
   "cell_type": "code",
   "execution_count": 4,
   "metadata": {},
   "outputs": [
    {
     "data": {
      "text/plain": [
       "array([[[ 1,  2,  3,  4,  5],\n",
       "        [11, 21, 31, 41, 51]],\n",
       "\n",
       "       [[11, 12, 13, 14, 15],\n",
       "        [51, 52, 53, 54,  5]]])"
      ]
     },
     "execution_count": 4,
     "metadata": {},
     "output_type": "execute_result"
    }
   ],
   "source": [
    "array_3D = np.array([[[1,2,3,4,5], [11,21,31,41,51]], [[11,12,13,14,15], [51,52,53,54,5]]])\n",
    "array_3D"
   ]
  },
  {
   "cell_type": "markdown",
   "metadata": {},
   "source": [
    "### 2. Generate 4 arrays of size 10:\n",
    "    A) The first one should be \"empty\"\n",
    "    B) The second one should be full of 0s\n",
    "    C) The third one should be full of 1s\n",
    "    D) The last one should be full of 2s\n",
    "   (<b>Hint</b>: Try to use 4 different functions here.)"
   ]
  },
  {
   "cell_type": "code",
   "execution_count": 7,
   "metadata": {},
   "outputs": [
    {
     "data": {
      "text/plain": [
       "array([2.87663507e-316, 0.00000000e+000, 0.00000000e+000, 0.00000000e+000,\n",
       "       0.00000000e+000, 0.00000000e+000, 0.00000000e+000, 0.00000000e+000,\n",
       "       0.00000000e+000, 0.00000000e+000])"
      ]
     },
     "execution_count": 7,
     "metadata": {},
     "output_type": "execute_result"
    }
   ],
   "source": [
    "empty_arr = np.empty(10)\n",
    "empty_arr"
   ]
  },
  {
   "cell_type": "code",
   "execution_count": 9,
   "metadata": {},
   "outputs": [
    {
     "data": {
      "text/plain": [
       "array([0., 0., 0., 0., 0., 0., 0., 0., 0., 0.])"
      ]
     },
     "execution_count": 9,
     "metadata": {},
     "output_type": "execute_result"
    }
   ],
   "source": [
    "zeros_arr = np.zeros(10)\n",
    "zeros_arr"
   ]
  },
  {
   "cell_type": "code",
   "execution_count": 10,
   "metadata": {},
   "outputs": [
    {
     "data": {
      "text/plain": [
       "array([1., 1., 1., 1., 1., 1., 1., 1., 1., 1.])"
      ]
     },
     "execution_count": 10,
     "metadata": {},
     "output_type": "execute_result"
    }
   ],
   "source": [
    "ones_arr = np.ones(10)\n",
    "ones_arr"
   ]
  },
  {
   "cell_type": "code",
   "execution_count": 12,
   "metadata": {},
   "outputs": [
    {
     "data": {
      "text/plain": [
       "array([2, 2, 2, 2, 2, 2, 2, 2, 2, 2])"
      ]
     },
     "execution_count": 12,
     "metadata": {},
     "output_type": "execute_result"
    }
   ],
   "source": [
    "twos_arr = np.full(10,2)\n",
    "twos_arr"
   ]
  },
  {
   "cell_type": "markdown",
   "metadata": {},
   "source": [
    "### 3. Generate 4 more arrays. This time, they should be 2 by 4 arrays. "
   ]
  },
  {
   "cell_type": "code",
   "execution_count": 14,
   "metadata": {},
   "outputs": [
    {
     "data": {
      "text/plain": [
       "array([[2.84072658e-316, 0.00000000e+000, 6.94092421e-310,\n",
       "        6.94092421e-310],\n",
       "       [6.94092421e-310, 6.94092421e-310, 6.94092421e-310,\n",
       "        6.94092421e-310]])"
      ]
     },
     "execution_count": 14,
     "metadata": {},
     "output_type": "execute_result"
    }
   ],
   "source": [
    "empty_matrix = np.empty((2,4))\n",
    "empty_matrix"
   ]
  },
  {
   "cell_type": "code",
   "execution_count": 15,
   "metadata": {},
   "outputs": [
    {
     "data": {
      "text/plain": [
       "array([[0., 0., 0., 0.],\n",
       "       [0., 0., 0., 0.]])"
      ]
     },
     "execution_count": 15,
     "metadata": {},
     "output_type": "execute_result"
    }
   ],
   "source": [
    "zeros_matrix = np.zeros((2,4))\n",
    "zeros_matrix"
   ]
  },
  {
   "cell_type": "code",
   "execution_count": 16,
   "metadata": {},
   "outputs": [
    {
     "data": {
      "text/plain": [
       "array([[1., 1., 1., 1.],\n",
       "       [1., 1., 1., 1.]])"
      ]
     },
     "execution_count": 16,
     "metadata": {},
     "output_type": "execute_result"
    }
   ],
   "source": [
    "ones_matrix = np.ones((2,4))\n",
    "ones_matrix"
   ]
  },
  {
   "cell_type": "code",
   "execution_count": 18,
   "metadata": {},
   "outputs": [
    {
     "data": {
      "text/plain": [
       "array([[2, 2, 2, 2],\n",
       "       [2, 2, 2, 2]])"
      ]
     },
     "execution_count": 18,
     "metadata": {},
     "output_type": "execute_result"
    }
   ],
   "source": [
    "twos_matrix = np.full((2,4),2)\n",
    "twos_matrix"
   ]
  },
  {
   "cell_type": "markdown",
   "metadata": {},
   "source": [
    "### 4. Use the <i> _like </i> functions to generate 4 more arrays:\n",
    "    A) An empty array with the same shape as array_1D. \n",
    "    B) An 2-D array of 0s with the same shape as array_2D.\n",
    "    C) A 3-D array of 1s with the same shappe as array_3D.\n",
    "    D) A 3-D array of 2s with the same shape as array_3D. "
   ]
  },
  {
   "cell_type": "code",
   "execution_count": 19,
   "metadata": {},
   "outputs": [
    {
     "data": {
      "text/plain": [
       "array([1.e-323, 1.e-323, 1.e-323, 1.e-323, 1.e-323, 1.e-323, 1.e-323,\n",
       "       1.e-323, 1.e-323, 1.e-323])"
      ]
     },
     "execution_count": 19,
     "metadata": {},
     "output_type": "execute_result"
    }
   ],
   "source": [
    "arr1 = np.empty_like(empty_arr)\n",
    "arr1"
   ]
  },
  {
   "cell_type": "code",
   "execution_count": 21,
   "metadata": {},
   "outputs": [
    {
     "data": {
      "text/plain": [
       "array([0., 0., 0., 0., 0., 0., 0., 0., 0., 0.])"
      ]
     },
     "execution_count": 21,
     "metadata": {},
     "output_type": "execute_result"
    }
   ],
   "source": [
    "arr2 = np.zeros_like(zeros_arr)\n",
    "arr2"
   ]
  },
  {
   "cell_type": "code",
   "execution_count": 22,
   "metadata": {},
   "outputs": [
    {
     "data": {
      "text/plain": [
       "array([1., 1., 1., 1., 1., 1., 1., 1., 1., 1.])"
      ]
     },
     "execution_count": 22,
     "metadata": {},
     "output_type": "execute_result"
    }
   ],
   "source": [
    "arr3 = np.ones_like(ones_arr)\n",
    "arr3"
   ]
  },
  {
   "cell_type": "code",
   "execution_count": 24,
   "metadata": {},
   "outputs": [
    {
     "data": {
      "text/plain": [
       "array([2, 2, 2, 2, 2, 2, 2, 2, 2, 2])"
      ]
     },
     "execution_count": 24,
     "metadata": {},
     "output_type": "execute_result"
    }
   ],
   "source": [
    "arr4 = np.full_like(twos_arr, 2)\n",
    "arr4"
   ]
  },
  {
   "cell_type": "markdown",
   "metadata": {},
   "source": [
    "### 5. With the help of the np.arange() function, generate several sequences of numbers:\n",
    "    A) The integers from 0 to 50, excluding 50. \n",
    "    B) The integers from 1 to 50, including 50. \n",
    "    C) The integers from 25 to 50, including 50. \n",
    "    D) Every 5-th integers from 25 to 50, including 50. \n",
    "    E) Every 5-th integers from 25 to 50, including 50, represented as decimals of up to 32 bits. "
   ]
  },
  {
   "cell_type": "code",
   "execution_count": 25,
   "metadata": {},
   "outputs": [
    {
     "data": {
      "text/plain": [
       "array([ 0,  1,  2,  3,  4,  5,  6,  7,  8,  9, 10, 11, 12, 13, 14, 15, 16,\n",
       "       17, 18, 19, 20, 21, 22, 23, 24, 25, 26, 27, 28, 29, 30, 31, 32, 33,\n",
       "       34, 35, 36, 37, 38, 39, 40, 41, 42, 43, 44, 45, 46, 47, 48, 49])"
      ]
     },
     "execution_count": 25,
     "metadata": {},
     "output_type": "execute_result"
    }
   ],
   "source": [
    "np.arange(50)"
   ]
  },
  {
   "cell_type": "code",
   "execution_count": 26,
   "metadata": {},
   "outputs": [
    {
     "data": {
      "text/plain": [
       "array([ 1,  2,  3,  4,  5,  6,  7,  8,  9, 10, 11, 12, 13, 14, 15, 16, 17,\n",
       "       18, 19, 20, 21, 22, 23, 24, 25, 26, 27, 28, 29, 30, 31, 32, 33, 34,\n",
       "       35, 36, 37, 38, 39, 40, 41, 42, 43, 44, 45, 46, 47, 48, 49])"
      ]
     },
     "execution_count": 26,
     "metadata": {},
     "output_type": "execute_result"
    }
   ],
   "source": [
    "np.arange(1,50)"
   ]
  },
  {
   "cell_type": "code",
   "execution_count": 27,
   "metadata": {},
   "outputs": [
    {
     "data": {
      "text/plain": [
       "array([25, 26, 27, 28, 29, 30, 31, 32, 33, 34, 35, 36, 37, 38, 39, 40, 41,\n",
       "       42, 43, 44, 45, 46, 47, 48, 49, 50])"
      ]
     },
     "execution_count": 27,
     "metadata": {},
     "output_type": "execute_result"
    }
   ],
   "source": [
    "np.arange(25,51)"
   ]
  },
  {
   "cell_type": "code",
   "execution_count": 28,
   "metadata": {},
   "outputs": [
    {
     "data": {
      "text/plain": [
       "array([25, 30, 35, 40, 45, 50])"
      ]
     },
     "execution_count": 28,
     "metadata": {},
     "output_type": "execute_result"
    }
   ],
   "source": [
    "np.arange(25,51, step = 5)"
   ]
  },
  {
   "cell_type": "code",
   "execution_count": 29,
   "metadata": {},
   "outputs": [
    {
     "data": {
      "text/plain": [
       "array([25., 30., 35., 40., 45., 50.], dtype=float32)"
      ]
     },
     "execution_count": 29,
     "metadata": {},
     "output_type": "execute_result"
    }
   ],
   "source": [
    "np.arange(25,51, step = 5, dtype = np.float32)"
   ]
  },
  {
   "cell_type": "markdown",
   "metadata": {},
   "source": [
    "### 6. Import the following functions from the numpy.random module:\n",
    "    A) Generator as \"gen\".\n",
    "    B) PCG64 as \"pcg\""
   ]
  },
  {
   "cell_type": "code",
   "execution_count": 30,
   "metadata": {},
   "outputs": [],
   "source": [
    "from numpy.random import Generator as gen"
   ]
  },
  {
   "cell_type": "code",
   "execution_count": 31,
   "metadata": {},
   "outputs": [],
   "source": [
    "from numpy.random import PCG64 as pcg"
   ]
  },
  {
   "cell_type": "markdown",
   "metadata": {},
   "source": [
    "### 7. Create a random generator object."
   ]
  },
  {
   "cell_type": "code",
   "execution_count": 34,
   "metadata": {},
   "outputs": [],
   "source": [
    "random_obj = gen(pcg())"
   ]
  },
  {
   "cell_type": "markdown",
   "metadata": {},
   "source": [
    "### 8. Using the .random() method, generate the following pseudo-random values:\n",
    "    A) A single probability of an event occuring.\n",
    "    B) An array of size 10 with the probabilities of 10 events. \n",
    "    C) A 5 by 10 2-D array with the probabilities of 50 events.  "
   ]
  },
  {
   "cell_type": "code",
   "execution_count": 37,
   "metadata": {},
   "outputs": [
    {
     "data": {
      "text/plain": [
       "0.8126506409229013"
      ]
     },
     "execution_count": 37,
     "metadata": {},
     "output_type": "execute_result"
    }
   ],
   "source": [
    "random_obj.random()"
   ]
  },
  {
   "cell_type": "code",
   "execution_count": 38,
   "metadata": {},
   "outputs": [
    {
     "data": {
      "text/plain": [
       "array([0.67435022, 0.51015024, 0.66684897, 0.81772014, 0.68975313,\n",
       "       0.84899229, 0.92307939, 0.80148846, 0.68247393, 0.48499411])"
      ]
     },
     "execution_count": 38,
     "metadata": {},
     "output_type": "execute_result"
    }
   ],
   "source": [
    "random_obj.random(10)"
   ]
  },
  {
   "cell_type": "code",
   "execution_count": 40,
   "metadata": {},
   "outputs": [
    {
     "data": {
      "text/plain": [
       "array([[0.82162802, 0.64512923, 0.96403069, 0.12439309, 0.96878372,\n",
       "        0.21253018, 0.36629825, 0.84764599, 0.18361311, 0.25677746],\n",
       "       [0.97415336, 0.28286219, 0.36416364, 0.97918186, 0.73655754,\n",
       "        0.61866025, 0.72141931, 0.67064127, 0.84238423, 0.96192632],\n",
       "       [0.96841206, 0.69171471, 0.74803068, 0.22804591, 0.45721926,\n",
       "        0.34433157, 0.25085468, 0.93102207, 0.16526401, 0.60577427],\n",
       "       [0.93302117, 0.03407001, 0.50599382, 0.441425  , 0.22108284,\n",
       "        0.92713773, 0.61404993, 0.30195361, 0.52185693, 0.10138198],\n",
       "       [0.3615515 , 0.01398201, 0.01915321, 0.11283189, 0.97923019,\n",
       "        0.71056485, 0.68977193, 0.79303653, 0.47736549, 0.66596958]])"
      ]
     },
     "execution_count": 40,
     "metadata": {},
     "output_type": "execute_result"
    }
   ],
   "source": [
    "random_obj.random((5,10))"
   ]
  },
  {
   "cell_type": "markdown",
   "metadata": {},
   "source": [
    "### 9. Set the seed for the random generator to 123, and generate the same 3 sets of values:\n",
    "    A) A single probability of an event occuring.\n",
    "    B) An array of size 10 with the probabilities of 10 events. \n",
    "    C) A 5 by 10 2-D array with the probabilities of 50 events.  \n",
    "   <b> Note: </b> The seed only lasts for a single method before it gets reset. Hence, make sure you define the seed before calling the method every time. "
   ]
  },
  {
   "cell_type": "code",
   "execution_count": 44,
   "metadata": {},
   "outputs": [
    {
     "data": {
      "text/plain": [
       "0.6823518632481435"
      ]
     },
     "execution_count": 44,
     "metadata": {},
     "output_type": "execute_result"
    }
   ],
   "source": [
    "arr = gen(pcg(seed = 123))\n",
    "arr.random()"
   ]
  },
  {
   "cell_type": "code",
   "execution_count": 45,
   "metadata": {},
   "outputs": [
    {
     "data": {
      "text/plain": [
       "array([0.68235186, 0.05382102, 0.22035987, 0.18437181, 0.1759059 ,\n",
       "       0.81209451, 0.923345  , 0.2765744 , 0.81975456, 0.88989269])"
      ]
     },
     "execution_count": 45,
     "metadata": {},
     "output_type": "execute_result"
    }
   ],
   "source": [
    "arr = gen(pcg(123))\n",
    "arr.random(10)"
   ]
  },
  {
   "cell_type": "code",
   "execution_count": 46,
   "metadata": {},
   "outputs": [
    {
     "data": {
      "text/plain": [
       "array([[0.68235186, 0.05382102, 0.22035987, 0.18437181, 0.1759059 ,\n",
       "        0.81209451, 0.923345  , 0.2765744 , 0.81975456, 0.88989269],\n",
       "       [0.51297046, 0.2449646 , 0.8242416 , 0.21376296, 0.74146705,\n",
       "        0.6299402 , 0.92740726, 0.23190819, 0.79912513, 0.51816504],\n",
       "       [0.23155562, 0.16590399, 0.49778897, 0.58272464, 0.18433799,\n",
       "        0.01489492, 0.47113323, 0.72824333, 0.91860049, 0.62553401],\n",
       "       [0.91712257, 0.86469025, 0.21814287, 0.86612743, 0.73075194,\n",
       "        0.27786529, 0.79704355, 0.86522171, 0.2994379 , 0.52704208],\n",
       "       [0.07148681, 0.58323841, 0.2379064 , 0.76496365, 0.17363164,\n",
       "        0.31274226, 0.01447448, 0.03255192, 0.49670184, 0.46831253]])"
      ]
     },
     "execution_count": 46,
     "metadata": {},
     "output_type": "execute_result"
    }
   ],
   "source": [
    "arr = gen(pcg(123))\n",
    "arr.random((5,10))"
   ]
  },
  {
   "cell_type": "markdown",
   "metadata": {},
   "source": [
    "### 10. Set the seed for the random generator to 123, and generate the following arrays of integers:\n",
    "    A) A single integer between 0 and 10.\n",
    "    B) A 1-D array of 10 integers between 0 and 100.\n",
    "    C) A 5 by 10 array of two-digit integers."
   ]
  },
  {
   "cell_type": "code",
   "execution_count": 48,
   "metadata": {},
   "outputs": [
    {
     "data": {
      "text/plain": [
       "0"
      ]
     },
     "execution_count": 48,
     "metadata": {},
     "output_type": "execute_result"
    }
   ],
   "source": [
    "arr = gen(pcg(123))\n",
    "arr.integers(10)"
   ]
  },
  {
   "cell_type": "code",
   "execution_count": 50,
   "metadata": {},
   "outputs": [
    {
     "data": {
      "text/plain": [
       "array([ 1, 68, 59,  5, 90, 22, 25, 18, 33, 17])"
      ]
     },
     "execution_count": 50,
     "metadata": {},
     "output_type": "execute_result"
    }
   ],
   "source": [
    "arr = gen(pcg(123))\n",
    "arr.integers(100, size = 10)"
   ]
  },
  {
   "cell_type": "code",
   "execution_count": 52,
   "metadata": {},
   "outputs": [
    {
     "data": {
      "text/plain": [
       "array([[0, 6, 5, 0, 9, 2, 2, 1, 3, 1],\n",
       "       [3, 8, 4, 9, 4, 2, 7, 8, 8, 8],\n",
       "       [0, 5, 2, 2, 2, 8, 7, 2, 4, 7],\n",
       "       [1, 6, 4, 9, 7, 2, 8, 7, 2, 5],\n",
       "       [7, 2, 2, 1, 0, 4, 0, 5, 4, 1]])"
      ]
     },
     "execution_count": 52,
     "metadata": {},
     "output_type": "execute_result"
    }
   ],
   "source": [
    "arr = gen(pcg(123))\n",
    "arr.integers(10, size=(5,10))"
   ]
  },
  {
   "cell_type": "markdown",
   "metadata": {},
   "source": [
    "### 11. For this next bit, check the NumPy documentation and select 3 different probability distributions (e.g. normal, poisson, binomial, logistic) and generate the following:\n",
    "    A) One \"default\" value from one distribution (without specifying any non-mandatory arguments).\n",
    "    B) An array of 10 values from the second distribution. \n",
    "    C) A 5 by 10 2-D array with values from the third distribution."
   ]
  },
  {
   "cell_type": "code",
   "execution_count": 53,
   "metadata": {},
   "outputs": [
    {
     "data": {
      "text/plain": [
       "-0.9891213503478509"
      ]
     },
     "execution_count": 53,
     "metadata": {},
     "output_type": "execute_result"
    }
   ],
   "source": [
    "arr = gen(pcg(123))\n",
    "arr.normal()"
   ]
  },
  {
   "cell_type": "code",
   "execution_count": 54,
   "metadata": {},
   "outputs": [
    {
     "data": {
      "text/plain": [
       "array([17, 11, 11, 22, 15, 19, 18, 22, 19, 12])"
      ]
     },
     "execution_count": 54,
     "metadata": {},
     "output_type": "execute_result"
    }
   ],
   "source": [
    "arr = gen(pcg(123))\n",
    "arr.poisson(size = 10, lam = 15)"
   ]
  },
  {
   "cell_type": "code",
   "execution_count": 55,
   "metadata": {},
   "outputs": [
    {
     "data": {
      "text/plain": [
       "array([[67, 67, 72, 59, 77, 72, 81, 79, 67, 67],\n",
       "       [62, 63, 72, 65, 77, 68, 73, 71, 69, 70],\n",
       "       [72, 69, 72, 78, 70, 75, 61, 75, 72, 74],\n",
       "       [75, 72, 70, 60, 77, 67, 70, 73, 67, 68],\n",
       "       [59, 66, 65, 67, 76, 65, 68, 73, 66, 67]])"
      ]
     },
     "execution_count": 55,
     "metadata": {},
     "output_type": "execute_result"
    }
   ],
   "source": [
    "arr = gen(pcg(123))\n",
    "arr.binomial(n = 100, p = 0.7, size = (5,10))"
   ]
  }
 ],
 "metadata": {
  "kernelspec": {
   "display_name": "Python 3 (ipykernel)",
   "language": "python",
   "name": "python3"
  },
  "language_info": {
   "codemirror_mode": {
    "name": "ipython",
    "version": 3
   },
   "file_extension": ".py",
   "mimetype": "text/x-python",
   "name": "python",
   "nbconvert_exporter": "python",
   "pygments_lexer": "ipython3",
   "version": "3.10.9"
  }
 },
 "nbformat": 4,
 "nbformat_minor": 2
}
